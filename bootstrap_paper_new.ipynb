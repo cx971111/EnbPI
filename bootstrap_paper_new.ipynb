{
 "cells": [
  {
   "attachments": {},
   "cell_type": "markdown",
   "id": "5804264f",
   "metadata": {},
   "source": [
    "New EnbPI Bootstrap Steps:\n",
    "1) Extract Data\n",
    "2) Preprocess Data\n",
    "3) Bootstrap Synthetic Data\n",
    "4) Train Bootstrap Models\n",
    "5) Aggregate Model with LOO\n",
    "6) Get Nonconformity Scores, Q-hat, and Conformal Prediction Interval \n",
    "7) Evaluate Result on Test"
   ]
  },
  {
   "attachments": {},
   "cell_type": "markdown",
   "id": "db867f6c",
   "metadata": {},
   "source": [
    "#### **STEP 1) Extract Data**\n",
    "- Solar Atlanta Data\n",
    "- Solar SF Data\n",
    "- SF PV Data"
   ]
  },
  {
   "cell_type": "code",
   "execution_count": 1,
   "id": "cd8833fe",
   "metadata": {},
   "outputs": [],
   "source": [
    "import numpy as np\n",
    "import pandas as pd"
   ]
  },
  {
   "cell_type": "code",
   "execution_count": 2,
   "id": "0c70d916-6d3c-4fb1-90b1-aff1c7b6a036",
   "metadata": {},
   "outputs": [],
   "source": [
    "data_name = 'solar'\n",
    "filename = \"Data/Solar_Atl_data.csv\"\n",
    "max_data_size = 10000"
   ]
  },
  {
   "cell_type": "code",
   "execution_count": 3,
   "id": "a56167ac-8d0a-4412-b536-e0aebaf6f4fc",
   "metadata": {},
   "outputs": [
    {
     "data": {
      "text/plain": [
       "(8760, 14)"
      ]
     },
     "execution_count": 3,
     "metadata": {},
     "output_type": "execute_result"
    }
   ],
   "source": [
    "data_df = pd.read_csv(filename, skiprows=2)\n",
    "data_df.shape"
   ]
  },
  {
   "cell_type": "code",
   "execution_count": 4,
   "id": "ff990999",
   "metadata": {},
   "outputs": [
    {
     "data": {
      "text/html": [
       "<div>\n",
       "<style scoped>\n",
       "    .dataframe tbody tr th:only-of-type {\n",
       "        vertical-align: middle;\n",
       "    }\n",
       "\n",
       "    .dataframe tbody tr th {\n",
       "        vertical-align: top;\n",
       "    }\n",
       "\n",
       "    .dataframe thead th {\n",
       "        text-align: right;\n",
       "    }\n",
       "</style>\n",
       "<table border=\"1\" class=\"dataframe\">\n",
       "  <thead>\n",
       "    <tr style=\"text-align: right;\">\n",
       "      <th></th>\n",
       "      <th>Year</th>\n",
       "      <th>Month</th>\n",
       "      <th>Day</th>\n",
       "      <th>Hour</th>\n",
       "      <th>Minute</th>\n",
       "      <th>DHI</th>\n",
       "      <th>DNI</th>\n",
       "      <th>Dew Point</th>\n",
       "      <th>Surface Albedo</th>\n",
       "      <th>Wind Speed</th>\n",
       "      <th>Relative Humidity</th>\n",
       "      <th>Temperature</th>\n",
       "      <th>Pressure</th>\n",
       "      <th>Unnamed: 13</th>\n",
       "    </tr>\n",
       "  </thead>\n",
       "  <tbody>\n",
       "    <tr>\n",
       "      <th>0</th>\n",
       "      <td>2018</td>\n",
       "      <td>1</td>\n",
       "      <td>1</td>\n",
       "      <td>0</td>\n",
       "      <td>30</td>\n",
       "      <td>0</td>\n",
       "      <td>0</td>\n",
       "      <td>-12.3</td>\n",
       "      <td>0.11</td>\n",
       "      <td>1.9</td>\n",
       "      <td>59.45</td>\n",
       "      <td>-5.7</td>\n",
       "      <td>989</td>\n",
       "      <td>NaN</td>\n",
       "    </tr>\n",
       "    <tr>\n",
       "      <th>1</th>\n",
       "      <td>2018</td>\n",
       "      <td>1</td>\n",
       "      <td>1</td>\n",
       "      <td>1</td>\n",
       "      <td>30</td>\n",
       "      <td>0</td>\n",
       "      <td>0</td>\n",
       "      <td>-12.6</td>\n",
       "      <td>0.11</td>\n",
       "      <td>1.8</td>\n",
       "      <td>59.64</td>\n",
       "      <td>-6.0</td>\n",
       "      <td>989</td>\n",
       "      <td>NaN</td>\n",
       "    </tr>\n",
       "    <tr>\n",
       "      <th>2</th>\n",
       "      <td>2018</td>\n",
       "      <td>1</td>\n",
       "      <td>1</td>\n",
       "      <td>2</td>\n",
       "      <td>30</td>\n",
       "      <td>0</td>\n",
       "      <td>0</td>\n",
       "      <td>-12.7</td>\n",
       "      <td>0.11</td>\n",
       "      <td>1.8</td>\n",
       "      <td>60.25</td>\n",
       "      <td>-6.2</td>\n",
       "      <td>990</td>\n",
       "      <td>NaN</td>\n",
       "    </tr>\n",
       "    <tr>\n",
       "      <th>3</th>\n",
       "      <td>2018</td>\n",
       "      <td>1</td>\n",
       "      <td>1</td>\n",
       "      <td>3</td>\n",
       "      <td>30</td>\n",
       "      <td>0</td>\n",
       "      <td>0</td>\n",
       "      <td>-12.8</td>\n",
       "      <td>0.11</td>\n",
       "      <td>1.9</td>\n",
       "      <td>60.54</td>\n",
       "      <td>-6.4</td>\n",
       "      <td>990</td>\n",
       "      <td>NaN</td>\n",
       "    </tr>\n",
       "    <tr>\n",
       "      <th>4</th>\n",
       "      <td>2018</td>\n",
       "      <td>1</td>\n",
       "      <td>1</td>\n",
       "      <td>4</td>\n",
       "      <td>30</td>\n",
       "      <td>0</td>\n",
       "      <td>0</td>\n",
       "      <td>-13.2</td>\n",
       "      <td>0.11</td>\n",
       "      <td>1.9</td>\n",
       "      <td>60.17</td>\n",
       "      <td>-6.8</td>\n",
       "      <td>991</td>\n",
       "      <td>NaN</td>\n",
       "    </tr>\n",
       "  </tbody>\n",
       "</table>\n",
       "</div>"
      ],
      "text/plain": [
       "   Year  Month  Day  Hour  Minute  DHI  DNI  Dew Point  Surface Albedo  \\\n",
       "0  2018      1    1     0      30    0    0      -12.3            0.11   \n",
       "1  2018      1    1     1      30    0    0      -12.6            0.11   \n",
       "2  2018      1    1     2      30    0    0      -12.7            0.11   \n",
       "3  2018      1    1     3      30    0    0      -12.8            0.11   \n",
       "4  2018      1    1     4      30    0    0      -13.2            0.11   \n",
       "\n",
       "   Wind Speed  Relative Humidity  Temperature  Pressure  Unnamed: 13  \n",
       "0         1.9              59.45         -5.7       989          NaN  \n",
       "1         1.8              59.64         -6.0       989          NaN  \n",
       "2         1.8              60.25         -6.2       990          NaN  \n",
       "3         1.9              60.54         -6.4       990          NaN  \n",
       "4         1.9              60.17         -6.8       991          NaN  "
      ]
     },
     "execution_count": 4,
     "metadata": {},
     "output_type": "execute_result"
    }
   ],
   "source": [
    "data_df.head()"
   ]
  },
  {
   "cell_type": "code",
   "execution_count": 5,
   "id": "3e832329",
   "metadata": {},
   "outputs": [
    {
     "data": {
      "text/plain": [
       "<Axes: >"
      ]
     },
     "execution_count": 5,
     "metadata": {},
     "output_type": "execute_result"
    },
    {
     "data": {
      "image/png": "[encoded data removed]",
      "text/plain": [
       "<Figure size 640x480 with 1 Axes>"
      ]
     },
     "metadata": {},
     "output_type": "display_data"
    }
   ],
   "source": [
    "data_df[\"DHI\"].plot()"
   ]
  },
  {
   "attachments": {},
   "cell_type": "markdown",
   "id": "e6c72046",
   "metadata": {},
   "source": [
    "#### **STEP 2) Preprocess Data**\n",
    "- Strip out temporal columns from util.read_data()\n",
    "- Split train/test sets\n",
    "- Get AR lag coeffs with one-dim transformation (optional)"
   ]
  },
  {
   "attachments": {},
   "cell_type": "markdown",
   "id": "80a175d1",
   "metadata": {},
   "source": [
    "**util.read_data()**"
   ]
  },
  {
   "cell_type": "code",
   "execution_count": 6,
   "id": "afef5768-4b8e-4ae7-adf5-0b72bc665aff",
   "metadata": {},
   "outputs": [
    {
     "data": {
      "text/plain": [
       "(8760, 8)"
      ]
     },
     "execution_count": 6,
     "metadata": {},
     "output_type": "execute_result"
    }
   ],
   "source": [
    "if data_name == 'solar':\n",
    "    # data.shape  # 8760, 14\n",
    "    data_df.drop(columns=data_df.columns[0:5], inplace=True)  # Why??\n",
    "    data_df.drop(columns=\"Unnamed: 13\", inplace=True)\n",
    "    # pick maximum of X data points (for speed)\n",
    "    data_df = data_df.iloc[: min(max_data_size, data_df.shape[0]), :]\n",
    "\n",
    "data_df.shape"
   ]
  },
  {
   "cell_type": "code",
   "execution_count": 7,
   "id": "aa6f7a94",
   "metadata": {},
   "outputs": [
    {
     "data": {
      "text/html": [
       "<div>\n",
       "<style scoped>\n",
       "    .dataframe tbody tr th:only-of-type {\n",
       "        vertical-align: middle;\n",
       "    }\n",
       "\n",
       "    .dataframe tbody tr th {\n",
       "        vertical-align: top;\n",
       "    }\n",
       "\n",
       "    .dataframe thead th {\n",
       "        text-align: right;\n",
       "    }\n",
       "</style>\n",
       "<table border=\"1\" class=\"dataframe\">\n",
       "  <thead>\n",
       "    <tr style=\"text-align: right;\">\n",
       "      <th></th>\n",
       "      <th>DHI</th>\n",
       "      <th>DNI</th>\n",
       "      <th>Dew Point</th>\n",
       "      <th>Surface Albedo</th>\n",
       "      <th>Wind Speed</th>\n",
       "      <th>Relative Humidity</th>\n",
       "      <th>Temperature</th>\n",
       "      <th>Pressure</th>\n",
       "    </tr>\n",
       "  </thead>\n",
       "  <tbody>\n",
       "    <tr>\n",
       "      <th>0</th>\n",
       "      <td>0</td>\n",
       "      <td>0</td>\n",
       "      <td>-12.3</td>\n",
       "      <td>0.11</td>\n",
       "      <td>1.9</td>\n",
       "      <td>59.45</td>\n",
       "      <td>-5.7</td>\n",
       "      <td>989</td>\n",
       "    </tr>\n",
       "    <tr>\n",
       "      <th>1</th>\n",
       "      <td>0</td>\n",
       "      <td>0</td>\n",
       "      <td>-12.6</td>\n",
       "      <td>0.11</td>\n",
       "      <td>1.8</td>\n",
       "      <td>59.64</td>\n",
       "      <td>-6.0</td>\n",
       "      <td>989</td>\n",
       "    </tr>\n",
       "    <tr>\n",
       "      <th>2</th>\n",
       "      <td>0</td>\n",
       "      <td>0</td>\n",
       "      <td>-12.7</td>\n",
       "      <td>0.11</td>\n",
       "      <td>1.8</td>\n",
       "      <td>60.25</td>\n",
       "      <td>-6.2</td>\n",
       "      <td>990</td>\n",
       "    </tr>\n",
       "    <tr>\n",
       "      <th>3</th>\n",
       "      <td>0</td>\n",
       "      <td>0</td>\n",
       "      <td>-12.8</td>\n",
       "      <td>0.11</td>\n",
       "      <td>1.9</td>\n",
       "      <td>60.54</td>\n",
       "      <td>-6.4</td>\n",
       "      <td>990</td>\n",
       "    </tr>\n",
       "    <tr>\n",
       "      <th>4</th>\n",
       "      <td>0</td>\n",
       "      <td>0</td>\n",
       "      <td>-13.2</td>\n",
       "      <td>0.11</td>\n",
       "      <td>1.9</td>\n",
       "      <td>60.17</td>\n",
       "      <td>-6.8</td>\n",
       "      <td>991</td>\n",
       "    </tr>\n",
       "  </tbody>\n",
       "</table>\n",
       "</div>"
      ],
      "text/plain": [
       "   DHI  DNI  Dew Point  Surface Albedo  Wind Speed  Relative Humidity  \\\n",
       "0    0    0      -12.3            0.11         1.9              59.45   \n",
       "1    0    0      -12.6            0.11         1.8              59.64   \n",
       "2    0    0      -12.7            0.11         1.8              60.25   \n",
       "3    0    0      -12.8            0.11         1.9              60.54   \n",
       "4    0    0      -13.2            0.11         1.9              60.17   \n",
       "\n",
       "   Temperature  Pressure  \n",
       "0         -5.7       989  \n",
       "1         -6.0       989  \n",
       "2         -6.2       990  \n",
       "3         -6.4       990  \n",
       "4         -6.8       991  "
      ]
     },
     "execution_count": 7,
     "metadata": {},
     "output_type": "execute_result"
    }
   ],
   "source": [
    "data_df.head()"
   ]
  },
  {
   "attachments": {},
   "cell_type": "markdown",
   "id": "da556709",
   "metadata": {},
   "source": [
    "**Split Train/Test**"
   ]
  },
  {
   "cell_type": "code",
   "execution_count": 8,
   "id": "9376adc4",
   "metadata": {},
   "outputs": [],
   "source": [
    "target_column = \"DHI\""
   ]
  },
  {
   "cell_type": "code",
   "execution_count": 9,
   "id": "17839294",
   "metadata": {},
   "outputs": [
    {
     "data": {
      "text/plain": [
       "(array([ 876, 1752]), 1752)"
      ]
     },
     "execution_count": 9,
     "metadata": {},
     "output_type": "execute_result"
    }
   ],
   "source": [
    "data_x = data_df.drop(target_column, axis=1)\n",
    "data_y = data_df[target_column]\n",
    "data_x.shape, data_y.shape\n",
    "total_data_points = data_x.shape[0]\n",
    "# Is this part of the code? 10%/20% train for time saving\n",
    "Train_size = np.linspace(0.1 * total_data_points, 0.2 * total_data_points, 2).astype(int)\n",
    "train_size = Train_size[-1]  # let's just have one train size for now\n",
    "\n",
    "Train_size, train_size"
   ]
  },
  {
   "cell_type": "code",
   "execution_count": 10,
   "id": "1bd741cd",
   "metadata": {},
   "outputs": [],
   "source": [
    "# for one-step ahead forecasting. \n",
    "# TODO: generalize this for multistep forecasting\n",
    "data_y = data_y.shift(-1)\n",
    "data_y.dropna(inplace=True)\n",
    "data_x.drop(data_x.tail(1).index, inplace=True)\n",
    "data_x_numpy = data_x.to_numpy()  # Convert to numpy\n",
    "data_y_numpy = data_y.to_numpy()  # Convert to numpy\n",
    "\n",
    "X_train = data_x_numpy[:train_size, :]\n",
    "X_test = data_x_numpy[train_size:, :]\n",
    "y_train = data_y_numpy[:train_size]\n",
    "y_test = data_y_numpy[train_size:]"
   ]
  },
  {
   "attachments": {},
   "cell_type": "markdown",
   "id": "40f16e78",
   "metadata": {},
   "source": [
    "**one_dimen_transform()**"
   ]
  },
  {
   "cell_type": "code",
   "execution_count": 11,
   "id": "e03f3cb7",
   "metadata": {},
   "outputs": [
    {
     "data": {
      "text/plain": [
       "((1752, 7), (1752,), (7007, 7), (7007,))"
      ]
     },
     "execution_count": 11,
     "metadata": {},
     "output_type": "execute_result"
    }
   ],
   "source": [
    "X_train.shape, y_train.shape, X_test.shape, y_test.shape"
   ]
  },
  {
   "cell_type": "code",
   "execution_count": 12,
   "id": "eb87a46d",
   "metadata": {},
   "outputs": [],
   "source": [
    "# this is the AR-transformer. can replace with something from sktime.\n",
    "def one_dimen_transform(y_train, y_test, d):\n",
    "    n = len(y_train)\n",
    "    n1 = len(y_test)\n",
    "    X_train = np.zeros((n - d, d))  # from d+1,...,n\n",
    "    X_test = np.zeros((n1, d))  # from n-d,...,n+n1-d\n",
    "    for i in range(n - d):\n",
    "        X_train[i, :] = y_train[i : i + d]\n",
    "    for i in range(n1):\n",
    "        if i < d:\n",
    "            X_test[i, :] = np.r_[y_train[n - d + i :], y_test[:i]]\n",
    "        else:\n",
    "            X_test[i, :] = y_test[i - d : i]\n",
    "    y_train = y_train[d:]\n",
    "    return [X_train, X_test, y_train, y_test]"
   ]
  },
  {
   "cell_type": "code",
   "execution_count": 13,
   "id": "a6a2864b",
   "metadata": {},
   "outputs": [],
   "source": [
    "one_dim = True\n",
    "\n",
    "if one_dim:\n",
    "    # `d` is num_lookbacks for AR-transformer\n",
    "    d = 24\n",
    "    X_train, X_test, y_train, y_test = one_dimen_transform(\n",
    "        y_train,\n",
    "        y_test,\n",
    "        d=d,  # 24\n",
    "    )"
   ]
  },
  {
   "cell_type": "code",
   "execution_count": 14,
   "id": "16c306a6",
   "metadata": {},
   "outputs": [
    {
     "data": {
      "text/plain": [
       "((1728, 24), (1728,), (7007, 24), (7007,))"
      ]
     },
     "execution_count": 14,
     "metadata": {},
     "output_type": "execute_result"
    }
   ],
   "source": [
    "X_train.shape, y_train.shape, X_test.shape, y_test.shape"
   ]
  },
  {
   "attachments": {},
   "cell_type": "markdown",
   "id": "2952f9bb",
   "metadata": {},
   "source": [
    "#### **STEP 3) Bootstrap Synthetic Data**"
   ]
  },
  {
   "cell_type": "code",
   "execution_count": 15,
   "id": "1a369832",
   "metadata": {},
   "outputs": [],
   "source": [
    "block_length = 6  # [6, 12, 24, 48, 60, 72] loop\n",
    "B = 25  # [20, 25, ..., 50] single option"
   ]
  },
  {
   "cell_type": "code",
   "execution_count": 16,
   "id": "86ea1145",
   "metadata": {},
   "outputs": [
    {
     "data": {
      "text/plain": [
       "(1728, 7007, 25, 25)"
      ]
     },
     "execution_count": 16,
     "metadata": {},
     "output_type": "execute_result"
    }
   ],
   "source": [
    "n = len(X_train)\n",
    "n1 = len(X_test)\n",
    "# b = 0  # (0, B=25)\n",
    "\n",
    "#util.generate_bootstrap_samples\n",
    "m = n\n",
    "tot_trial = 1  # For CP methods that randomizes (for EnbPI, should be set to 1)\n",
    "itrial = 0  # for tot_trial in range(tot_trial)\n",
    "random_seed = B + itrial\n",
    "\n",
    "n, n1, B, random_seed"
   ]
  },
  {
   "attachments": {},
   "cell_type": "markdown",
   "id": "bc4e61d0",
   "metadata": {},
   "source": [
    "**Random Bootstrap**"
   ]
  },
  {
   "cell_type": "code",
   "execution_count": 17,
   "id": "6a0c0d18",
   "metadata": {},
   "outputs": [],
   "source": [
    "# EnbPI.prediction_interval and fit_bootstrap_models_online"
   ]
  },
  {
   "cell_type": "code",
   "execution_count": 18,
   "id": "994e0c71",
   "metadata": {},
   "outputs": [
    {
     "data": {
      "text/plain": [
       "(25, 1728)"
      ]
     },
     "execution_count": 18,
     "metadata": {},
     "output_type": "execute_result"
    }
   ],
   "source": [
    "np.random.seed(random_seed)  # must add random \n",
    "# np.random.seed(98765 + itrial)\n",
    "\n",
    "samples_idx = np.zeros((B, m), dtype=int)\n",
    "for b in range(B):\n",
    "    sample_idx = np.random.choice(a=n, size=m, replace=True)\n",
    "    samples_idx[b, :] = sample_idx\n",
    "\n",
    "samples_idx.shape"
   ]
  },
  {
   "cell_type": "code",
   "execution_count": 19,
   "id": "42ee64dc",
   "metadata": {},
   "outputs": [
    {
     "data": {
      "text/plain": [
       "array([[1156,  318,  474, ...,  110, 1123, 1264],\n",
       "       [1157,  564, 1597, ...,  698,  907, 1602],\n",
       "       [ 299, 1700,  690, ..., 1337,  118, 1689],\n",
       "       ...,\n",
       "       [ 845,  660,  382, ...,  994,  151, 1287],\n",
       "       [1056,  317,   16, ..., 1639, 1615, 1369],\n",
       "       [ 672,  784, 1408, ...,  445, 1383,  640]])"
      ]
     },
     "execution_count": 19,
     "metadata": {},
     "output_type": "execute_result"
    }
   ],
   "source": [
    "samples_idx"
   ]
  },
  {
   "attachments": {},
   "cell_type": "markdown",
   "id": "3542aec9",
   "metadata": {},
   "source": [
    "**Moving BB**"
   ]
  },
  {
   "cell_type": "code",
   "execution_count": 20,
   "id": "653da3f1",
   "metadata": {},
   "outputs": [],
   "source": [
    "from numpy.random import default_rng"
   ]
  },
  {
   "cell_type": "code",
   "execution_count": 21,
   "id": "e0259b0a",
   "metadata": {},
   "outputs": [
    {
     "data": {
      "text/plain": [
       "(25, 1728)"
      ]
     },
     "execution_count": 21,
     "metadata": {},
     "output_type": "execute_result"
    }
   ],
   "source": [
    "samples_idx = np.zeros((B, m), dtype=int)\n",
    "# np.random.seed(None)\n",
    "\n",
    "for b in range(B):\n",
    "    # bootstraps._id_mb_bootstrap()\n",
    "    rng = default_rng(b + random_seed)\n",
    "    try:\n",
    "        rng_integers = rng.integers\n",
    "    except AttributeError:\n",
    "        rng_integers = rng.randint\n",
    "\n",
    "    n_blocks = int(np.ceil(n / block_length))\n",
    "    nexts = np.repeat([np.arange(0, block_length)], n_blocks, axis=0)\n",
    "\n",
    "    last_block = n - block_length\n",
    "    blocks = rng_integers(low=0, high=last_block, size=(n_blocks, 1), dtype=int)\n",
    "    _id = (blocks + nexts).ravel()[:n]\n",
    "\n",
    "    samples_idx[b, :] = _id\n",
    "\n",
    "samples_idx.shape"
   ]
  },
  {
   "cell_type": "code",
   "execution_count": 22,
   "id": "a7e6fb24",
   "metadata": {},
   "outputs": [
    {
     "data": {
      "text/plain": [
       "array([[ 868,  869,  870, ..., 1614, 1615, 1616],\n",
       "       [1484, 1485, 1486, ..., 1118, 1119, 1120],\n",
       "       [   4,    5,    6, ..., 1672, 1673, 1674],\n",
       "       ...,\n",
       "       [ 167,  168,  169, ...,  878,  879,  880],\n",
       "       [ 223,  224,  225, ...,  775,  776,  777],\n",
       "       [  73,   74,   75, ..., 1660, 1661, 1662]])"
      ]
     },
     "execution_count": 22,
     "metadata": {},
     "output_type": "execute_result"
    }
   ],
   "source": [
    "samples_idx"
   ]
  },
  {
   "attachments": {},
   "cell_type": "markdown",
   "id": "3359ac4b",
   "metadata": {},
   "source": [
    "**Circular BB**"
   ]
  },
  {
   "cell_type": "code",
   "execution_count": 23,
   "id": "a5b2848d",
   "metadata": {},
   "outputs": [
    {
     "data": {
      "text/plain": [
       "(25, 1728)"
      ]
     },
     "execution_count": 23,
     "metadata": {},
     "output_type": "execute_result"
    }
   ],
   "source": [
    "samples_idx = np.zeros((B, m), dtype=int)\n",
    "\n",
    "for b in range(B):\n",
    "    # bootstraps._id_c_bootstrap()\n",
    "    rng = default_rng(b + random_seed)\n",
    "    try:\n",
    "        rng_integers = rng.integers\n",
    "    except AttributeError:\n",
    "        rng_integers = rng.randint\n",
    "\n",
    "    n_blocks = int(np.ceil(n / block_length))\n",
    "    nexts = np.repeat([np.arange(0, block_length)], n_blocks, axis=0)\n",
    "\n",
    "    last_block = n\n",
    "\n",
    "    blocks = rng_integers(low=0, high=last_block, size=(n_blocks, 1), dtype=int)\n",
    "    _id = np.mod((blocks + nexts).ravel(), n)[:n]\n",
    "\n",
    "    samples_idx[b, :] = _id\n",
    "\n",
    "samples_idx.shape"
   ]
  },
  {
   "cell_type": "code",
   "execution_count": 24,
   "id": "972e9a3b",
   "metadata": {},
   "outputs": [
    {
     "data": {
      "text/plain": [
       "array([[ 871,  872,  873, ..., 1619, 1620, 1621],\n",
       "       [1489, 1490, 1491, ..., 1121, 1122, 1123],\n",
       "       [   4,    5,    6, ..., 1678, 1679, 1680],\n",
       "       ...,\n",
       "       [ 168,  169,  170, ...,  881,  882,  883],\n",
       "       [ 224,  225,  226, ...,  778,  779,  780],\n",
       "       [  73,   74,   75, ..., 1666, 1667, 1668]])"
      ]
     },
     "execution_count": 24,
     "metadata": {},
     "output_type": "execute_result"
    }
   ],
   "source": [
    "samples_idx"
   ]
  },
  {
   "attachments": {},
   "cell_type": "markdown",
   "id": "d562cd78",
   "metadata": {},
   "source": [
    "**Stationary BB**"
   ]
  },
  {
   "cell_type": "code",
   "execution_count": 25,
   "id": "85b42b2f",
   "metadata": {},
   "outputs": [
    {
     "data": {
      "text/plain": [
       "(25, 1728)"
      ]
     },
     "execution_count": 25,
     "metadata": {},
     "output_type": "execute_result"
    }
   ],
   "source": [
    "samples_idx = np.zeros((B, m), dtype=int)\n",
    "\n",
    "for b in range(B):\n",
    "    # bootstraps._id_s_bootstrap()\n",
    "    rng = default_rng(b + random_seed)\n",
    "    try:\n",
    "        rng_integers = rng.integers\n",
    "    except AttributeError:\n",
    "        rng_integers = rng.randint\n",
    "    #\n",
    "    rng_poisson = rng.poisson\n",
    "    #\n",
    "    random_block_length = rng_poisson(lam=block_length, size=n)\n",
    "    random_block_length[random_block_length < 3] = 3\n",
    "    random_block_length[random_block_length >= n] = n\n",
    "    random_block_length = random_block_length[random_block_length.cumsum() <= n]\n",
    "    residual_block = n - random_block_length.sum()\n",
    "    if residual_block > 0:\n",
    "        random_block_length = np.append(random_block_length, residual_block)\n",
    "    #\n",
    "    n_blocks = random_block_length.shape[0]\n",
    "    nexts = np.zeros((n_blocks, random_block_length.max() + 1))\n",
    "    nexts[np.arange(n_blocks), random_block_length] = 1\n",
    "    nexts = np.flip(nexts, 1).cumsum(1).cumsum(1).ravel()\n",
    "    nexts = (nexts[nexts > 1] - 2).astype(int)\n",
    "    #\n",
    "    last_block = n - random_block_length.max()\n",
    "    blocks = np.zeros(n, dtype=int)\n",
    "    if last_block > 0:\n",
    "        blocks = rng_integers(low=0, high=last_block, size=n_blocks)\n",
    "        blocks = np.repeat(blocks, random_block_length)\n",
    "    _id = blocks + nexts\n",
    "    #\n",
    "    samples_idx[b, :] = _id\n",
    "\n",
    "samples_idx.shape"
   ]
  },
  {
   "cell_type": "code",
   "execution_count": 26,
   "id": "136c7ccd",
   "metadata": {},
   "outputs": [
    {
     "data": {
      "text/plain": [
       "array([[1236, 1237, 1238, ...,  631,  863,  864],\n",
       "       [ 753,  754,  755, ..., 1295, 1296, 1297],\n",
       "       [1276, 1277, 1278, ..., 1463, 1464, 1465],\n",
       "       ...,\n",
       "       [ 907,  908,  909, ...,  871,  872,  873],\n",
       "       [ 347,  348,  349, ..., 1491, 1279, 1280],\n",
       "       [1366, 1367, 1368, ..., 1088, 1089, 1513]])"
      ]
     },
     "execution_count": 26,
     "metadata": {},
     "output_type": "execute_result"
    }
   ],
   "source": [
    "samples_idx"
   ]
  },
  {
   "attachments": {},
   "cell_type": "markdown",
   "id": "5cfe0b94",
   "metadata": {},
   "source": [
    "#### **STEP 4) Train Bootstrap Models**"
   ]
  },
  {
   "cell_type": "code",
   "execution_count": 33,
   "id": "20436077",
   "metadata": {},
   "outputs": [],
   "source": [
    "# bootstrap_types, block_lengths\n",
    "# bootstrap_types = [\"circular\", \"stationary\", \"moving\", \"random\"]#, \"random\"]\n",
    "# bootstrap_types = [\"random\"]\n",
    "# block_lengths = [6, 12, 24, 48, 60, 72]"
   ]
  },
  {
   "cell_type": "code",
   "execution_count": 34,
   "id": "21ac5623",
   "metadata": {},
   "outputs": [],
   "source": [
    "#alpha_ls = [0.01, 0.05, 0.10, 0.15, 0.20, 0.25, 0.50, 0.75, 0.80, 0.85, 0.90, 0.95, 0.99]#np.linspace(0.05, 0.50, 10)\n",
    "alpha_ls = [0.01, 0.10, 0.20, 0.50, 0.80, 0.90, 0.99]  #np.linspace(0.05, 0.50, 10)\n",
    "stride = 1"
   ]
  },
  {
   "cell_type": "code",
   "execution_count": 35,
   "id": "d7bcc033",
   "metadata": {},
   "outputs": [],
   "source": [
    "target_column = \"DHI\""
   ]
  },
  {
   "cell_type": "code",
   "execution_count": null,
   "id": "404c5e3d",
   "metadata": {},
   "outputs": [],
   "source": [
    "# Then run conformal-related methods\n",
    "stride = 1\n",
    "miss_test_idx = []\n",
    "#alpha = 0.1\n",
    "#rnn = True\n",
    "methods = ['Ensemble']#, 'ICP', 'Weighted_ICP']\n",
    "bootstrap_types = [\"circular\", \"stationary\", \"moving\", \"random\"]#, \"random\"]\n",
    "block_lengths = [6, 12, 24, 48, 60, 72]\n",
    "# NOTE, if want to run J+aB (Kim et al. 2020), then let\n",
    "# methods = ['Ensemble', 'ICP', 'Weighted_ICP', 'JaB']"
   ]
  },
  {
   "attachments": {},
   "cell_type": "markdown",
   "id": "09758ec7",
   "metadata": {},
   "source": [
    "**Run Boostrap**"
   ]
  },
  {
   "cell_type": "code",
   "execution_count": null,
   "id": "ef3a50fb",
   "metadata": {},
   "outputs": [],
   "source": [
    "results_col = [\n",
    "    \"itrial\",\n",
    "    \"dataname\",\n",
    "    \"muh_fun\",\n",
    "    \"method\",\n",
    "    \"train_size\",\n",
    "    \"alpha\",\n",
    "    \"coverage\",\n",
    "    \"width\",\n",
    "    \"bootstrap_type\",\n",
    "    \"block_length\",\n",
    "]\n",
    "results_df = pd.DataFrame(columns=results_col)"
   ]
  },
  {
   "cell_type": "code",
   "execution_count": null,
   "id": "929a3968",
   "metadata": {},
   "outputs": [],
   "source": [
    "itrial = 0\n",
    "np.random.seed(98765 + itrial)  # does this do anything?"
   ]
  },
  {
   "cell_type": "code",
   "execution_count": null,
   "id": "6ed17cb1",
   "metadata": {},
   "outputs": [
    {
     "data": {
      "text/plain": [
       "1752"
      ]
     },
     "metadata": {},
     "output_type": "display_data"
    }
   ],
   "source": [
    "train_size"
   ]
  },
  {
   "cell_type": "code",
   "execution_count": null,
   "id": "494aba4d",
   "metadata": {},
   "outputs": [
    {
     "data": {
      "text/plain": [
       "0    0.0\n",
       "1    0.0\n",
       "2    0.0\n",
       "3    0.0\n",
       "4    0.0\n",
       "Name: DHI, dtype: float64"
      ]
     },
     "metadata": {},
     "output_type": "display_data"
    }
   ],
   "source": [
    "data_y.head()"
   ]
  },
  {
   "cell_type": "code",
   "execution_count": null,
   "id": "a7f3cf73",
   "metadata": {},
   "outputs": [
    {
     "data": {
      "text/plain": [
       "((1752, 7), (7007, 7))"
      ]
     },
     "metadata": {},
     "output_type": "display_data"
    }
   ],
   "source": [
    "X_train.shape, X_test.shape"
   ]
  },
  {
   "attachments": {},
   "cell_type": "markdown",
   "id": "e5d43cf7",
   "metadata": {},
   "source": [
    "**Models**"
   ]
  },
  {
   "cell_type": "code",
   "execution_count": null,
   "id": "2f30c1ea",
   "metadata": {},
   "outputs": [],
   "source": [
    "from sklearn.linear_model import RidgeCV, LassoCV\n",
    "from sklearn.ensemble import RandomForestRegressor, ExtraTreesRegressor"
   ]
  },
  {
   "cell_type": "code",
   "execution_count": null,
   "id": "511d0d7f",
   "metadata": {},
   "outputs": [],
   "source": [
    "min_alpha = 0.0001\n",
    "max_alpha = 10"
   ]
  },
  {
   "cell_type": "code",
   "execution_count": null,
   "id": "be41fd4d",
   "metadata": {},
   "outputs": [],
   "source": [
    "ridge_cv = RidgeCV(alphas=np.linspace(min_alpha, max_alpha, 10))\n",
    "lasso_cv = LassoCV(alphas=np.linspace(min_alpha, max_alpha, 10))\n",
    "random_forest = RandomForestRegressor(\n",
    "    n_estimators=10, criterion=\"squared_error\", bootstrap=False, max_depth=2, n_jobs=-1\n",
    ")\n",
    "extra_trees = ExtraTreesRegressor(n_estimators=10, criterion=\"squared_error\", bootstrap=False, max_depth=2, n_jobs=-1)"
   ]
  },
  {
   "cell_type": "code",
   "execution_count": 44,
   "id": "e2cebb11",
   "metadata": {},
   "outputs": [
    {
     "name": "stderr",
     "output_type": "stream",
     "text": [
      "2023-05-16 17:41:48.222170: I tensorflow/tsl/cuda/cudart_stub.cc:28] Could not find cuda drivers on your machine, GPU will not be used.\n",
      "2023-05-16 17:41:48.436388: I tensorflow/tsl/cuda/cudart_stub.cc:28] Could not find cuda drivers on your machine, GPU will not be used.\n",
      "2023-05-16 17:41:48.437332: I tensorflow/core/platform/cpu_feature_guard.cc:182] This TensorFlow binary is optimized to use available CPU instructions in performance-critical operations.\n",
      "To enable the following instructions: AVX2 FMA, in other operations, rebuild TensorFlow with the appropriate compiler flags.\n",
      "2023-05-16 17:41:49.882015: W tensorflow/compiler/tf2tensorrt/utils/py_utils.cc:38] TF-TRT Warning: Could not find TensorRT\n"
     ]
    }
   ],
   "source": [
    "from tensorflow import keras\n",
    "# import keras\n",
    "# from keras.models import Sequential, clone_model\n",
    "# from keras.layers import Dense\n",
    "# from keras.layers import Dropout\n",
    "# from tensorflow.keras.optimizers import Adam"
   ]
  },
  {
   "cell_type": "code",
   "execution_count": 45,
   "id": "63f49734",
   "metadata": {},
   "outputs": [
    {
     "data": {
      "text/html": [
       "<style>#sk-container-id-1 {color: black;background-color: white;}#sk-container-id-1 pre{padding: 0;}#sk-container-id-1 div.sk-toggleable {background-color: white;}#sk-container-id-1 label.sk-toggleable__label {cursor: pointer;display: block;width: 100%;margin-bottom: 0;padding: 0.3em;box-sizing: border-box;text-align: center;}#sk-container-id-1 label.sk-toggleable__label-arrow:before {content: \"▸\";float: left;margin-right: 0.25em;color: #696969;}#sk-container-id-1 label.sk-toggleable__label-arrow:hover:before {color: black;}#sk-container-id-1 div.sk-estimator:hover label.sk-toggleable__label-arrow:before {color: black;}#sk-container-id-1 div.sk-toggleable__content {max-height: 0;max-width: 0;overflow: hidden;text-align: left;background-color: #f0f8ff;}#sk-container-id-1 div.sk-toggleable__content pre {margin: 0.2em;color: black;border-radius: 0.25em;background-color: #f0f8ff;}#sk-container-id-1 input.sk-toggleable__control:checked~div.sk-toggleable__content {max-height: 200px;max-width: 100%;overflow: auto;}#sk-container-id-1 input.sk-toggleable__control:checked~label.sk-toggleable__label-arrow:before {content: \"▾\";}#sk-container-id-1 div.sk-estimator input.sk-toggleable__control:checked~label.sk-toggleable__label {background-color: #d4ebff;}#sk-container-id-1 div.sk-label input.sk-toggleable__control:checked~label.sk-toggleable__label {background-color: #d4ebff;}#sk-container-id-1 input.sk-hidden--visually {border: 0;clip: rect(1px 1px 1px 1px);clip: rect(1px, 1px, 1px, 1px);height: 1px;margin: -1px;overflow: hidden;padding: 0;position: absolute;width: 1px;}#sk-container-id-1 div.sk-estimator {font-family: monospace;background-color: #f0f8ff;border: 1px dotted black;border-radius: 0.25em;box-sizing: border-box;margin-bottom: 0.5em;}#sk-container-id-1 div.sk-estimator:hover {background-color: #d4ebff;}#sk-container-id-1 div.sk-parallel-item::after {content: \"\";width: 100%;border-bottom: 1px solid gray;flex-grow: 1;}#sk-container-id-1 div.sk-label:hover label.sk-toggleable__label {background-color: #d4ebff;}#sk-container-id-1 div.sk-serial::before {content: \"\";position: absolute;border-left: 1px solid gray;box-sizing: border-box;top: 0;bottom: 0;left: 50%;z-index: 0;}#sk-container-id-1 div.sk-serial {display: flex;flex-direction: column;align-items: center;background-color: white;padding-right: 0.2em;padding-left: 0.2em;position: relative;}#sk-container-id-1 div.sk-item {position: relative;z-index: 1;}#sk-container-id-1 div.sk-parallel {display: flex;align-items: stretch;justify-content: center;background-color: white;position: relative;}#sk-container-id-1 div.sk-item::before, #sk-container-id-1 div.sk-parallel-item::before {content: \"\";position: absolute;border-left: 1px solid gray;box-sizing: border-box;top: 0;bottom: 0;left: 50%;z-index: -1;}#sk-container-id-1 div.sk-parallel-item {display: flex;flex-direction: column;z-index: 1;position: relative;background-color: white;}#sk-container-id-1 div.sk-parallel-item:first-child::after {align-self: flex-end;width: 50%;}#sk-container-id-1 div.sk-parallel-item:last-child::after {align-self: flex-start;width: 50%;}#sk-container-id-1 div.sk-parallel-item:only-child::after {width: 0;}#sk-container-id-1 div.sk-dashed-wrapped {border: 1px dashed gray;margin: 0 0.4em 0.5em 0.4em;box-sizing: border-box;padding-bottom: 0.4em;background-color: white;}#sk-container-id-1 div.sk-label label {font-family: monospace;font-weight: bold;display: inline-block;line-height: 1.2em;}#sk-container-id-1 div.sk-label-container {text-align: center;}#sk-container-id-1 div.sk-container {/* jupyter's `normalize.less` sets `[hidden] { display: none; }` but bootstrap.min.css set `[hidden] { display: none !important; }` so we also need the `!important` here to be able to override the default hidden behavior on the sphinx rendered scikit-learn.org. See: https://github.com/scikit-learn/scikit-learn/issues/21755 */display: inline-block !important;position: relative;}#sk-container-id-1 div.sk-text-repr-fallback {display: none;}</style><div id=\"sk-container-id-1\" class=\"sk-top-container\"><div class=\"sk-text-repr-fallback\"><pre>LassoCV(alphas=array([1.0000e-04, 1.1112e+00, 2.2223e+00, 3.3334e+00, 4.4445e+00,\n",
       "       5.5556e+00, 6.6667e+00, 7.7778e+00, 8.8889e+00, 1.0000e+01]))</pre><b>In a Jupyter environment, please rerun this cell to show the HTML representation or trust the notebook. <br />On GitHub, the HTML representation is unable to render, please try loading this page with nbviewer.org.</b></div><div class=\"sk-container\" hidden><div class=\"sk-item\"><div class=\"sk-estimator sk-toggleable\"><input class=\"sk-toggleable__control sk-hidden--visually\" id=\"sk-estimator-id-1\" type=\"checkbox\" checked><label for=\"sk-estimator-id-1\" class=\"sk-toggleable__label sk-toggleable__label-arrow\">LassoCV</label><div class=\"sk-toggleable__content\"><pre>LassoCV(alphas=array([1.0000e-04, 1.1112e+00, 2.2223e+00, 3.3334e+00, 4.4445e+00,\n",
       "       5.5556e+00, 6.6667e+00, 7.7778e+00, 8.8889e+00, 1.0000e+01]))</pre></div></div></div></div></div>"
      ],
      "text/plain": [
       "LassoCV(alphas=array([1.0000e-04, 1.1112e+00, 2.2223e+00, 3.3334e+00, 4.4445e+00,\n",
       "       5.5556e+00, 6.6667e+00, 7.7778e+00, 8.8889e+00, 1.0000e+01]))"
      ]
     },
     "execution_count": 45,
     "metadata": {},
     "output_type": "execute_result"
    }
   ],
   "source": [
    "regressor = lasso_cv\n",
    "regressor"
   ]
  },
  {
   "cell_type": "code",
   "execution_count": 46,
   "id": "adabe959",
   "metadata": {},
   "outputs": [],
   "source": [
    "# hold predictions from each f^b\n",
    "boot_testions = np.zeros((B, (n + n1)), dtype=float)\n",
    "# for i^th column, it shows which f^b uses i in training (so exclude in aggregation)\n",
    "in_boot_sample = np.zeros((B, n), dtype=bool)\n",
    "out_sample_test = np.zeros((n, n1))"
   ]
  },
  {
   "cell_type": "code",
   "execution_count": 47,
   "id": "4d31bde5",
   "metadata": {},
   "outputs": [],
   "source": [
    "for b in range(B):\n",
    "    model = regressor\n",
    "    X_train_boot = X_train[boot_samples_idx[b], :]\n",
    "    y_train_boot = y_train[boot_samples_idx[b],]\n",
    "    # print(X_train_boot.shape)\n",
    "    # print(y_train_boot.shape)\n",
    "    callback = keras.callbacks.EarlyStopping(monitor=\"loss\", patience=10)\n",
    "    bsize = int(0.1 * len(np.unique(boot_samples_idx[b])))\n",
    "\n",
    "    model.fit(\n",
    "        X_train_boot,\n",
    "        y_train_boot,\n",
    "        # epochs=10,\n",
    "        # batch_size=bsize,\n",
    "        # callbacks=[callback],\n",
    "        # verbose=0,\n",
    "    )\n",
    "\n",
    "    boot_testions[b] = model.predict(\n",
    "        np.r_[X_train, X_test]\n",
    "    ).flatten()\n",
    "    in_boot_sample[b, boot_samples_idx[b]] = True"
   ]
  },
  {
   "attachments": {},
   "cell_type": "markdown",
   "id": "e5c09dc6",
   "metadata": {},
   "source": [
    "**Output**"
   ]
  },
  {
   "cell_type": "code",
   "execution_count": 48,
   "id": "f181b480",
   "metadata": {},
   "outputs": [
    {
     "data": {
      "text/plain": [
       "((1728, 24), (1728,), (1728, 24), (1728,))"
      ]
     },
     "execution_count": 48,
     "metadata": {},
     "output_type": "execute_result"
    }
   ],
   "source": [
    "X_train_boot.shape, y_train_boot.shape, X_train_boot.shape, y_train_boot.shape"
   ]
  },
  {
   "cell_type": "code",
   "execution_count": 49,
   "id": "6d7b3f63",
   "metadata": {},
   "outputs": [
    {
     "data": {
      "text/plain": [
       "(25, 8735)"
      ]
     },
     "execution_count": 49,
     "metadata": {},
     "output_type": "execute_result"
    }
   ],
   "source": [
    "boot_testions.shape"
   ]
  },
  {
   "cell_type": "code",
   "execution_count": 50,
   "id": "6ecbe9a9",
   "metadata": {},
   "outputs": [
    {
     "data": {
      "text/plain": [
       "array([[ 684,  559, 1653, ...,  740, 1439,  350],\n",
       "       [1353,  364, 1200, ..., 1583,  859, 1024],\n",
       "       [ 163, 1050, 1214, ...,  668,  790, 1691],\n",
       "       ...,\n",
       "       [1674,  764,  890, ...,  748, 1448,  167],\n",
       "       [1261, 1460,  437, ..., 1638, 1373, 1181],\n",
       "       [1593,  740, 1068, ..., 1001,  725,  972]])"
      ]
     },
     "execution_count": 50,
     "metadata": {},
     "output_type": "execute_result"
    }
   ],
   "source": [
    "boot_samples_idx"
   ]
  },
  {
   "cell_type": "code",
   "execution_count": 51,
   "id": "7a180b38",
   "metadata": {},
   "outputs": [
    {
     "data": {
      "text/plain": [
       "(25, 1728)"
      ]
     },
     "execution_count": 51,
     "metadata": {},
     "output_type": "execute_result"
    }
   ],
   "source": [
    "in_boot_sample.shape"
   ]
  },
  {
   "cell_type": "code",
   "execution_count": 52,
   "id": "26222a7b",
   "metadata": {},
   "outputs": [
    {
     "data": {
      "text/plain": [
       "array([[ True, False, False, ..., False, False,  True],\n",
       "       [ True, False,  True, ...,  True,  True,  True],\n",
       "       [False,  True,  True, ...,  True, False,  True],\n",
       "       ...,\n",
       "       [ True,  True,  True, ...,  True, False,  True],\n",
       "       [False, False, False, ...,  True, False,  True],\n",
       "       [ True,  True, False, ..., False, False,  True]])"
      ]
     },
     "execution_count": 52,
     "metadata": {},
     "output_type": "execute_result"
    }
   ],
   "source": [
    "in_boot_sample"
   ]
  },
  {
   "attachments": {},
   "cell_type": "markdown",
   "id": "c1107cec",
   "metadata": {},
   "source": [
    "#### **STEP 5) LOO**"
   ]
  },
  {
   "cell_type": "code",
   "execution_count": 53,
   "id": "fd6de028",
   "metadata": {},
   "outputs": [],
   "source": [
    "i = 0"
   ]
  },
  {
   "cell_type": "code",
   "execution_count": 54,
   "id": "6f23f2b3",
   "metadata": {},
   "outputs": [
    {
     "data": {
      "text/plain": [
       "array([[ True, False, False, ..., False, False,  True],\n",
       "       [ True, False,  True, ...,  True,  True,  True],\n",
       "       [False,  True,  True, ...,  True, False,  True],\n",
       "       ...,\n",
       "       [ True,  True,  True, ...,  True, False,  True],\n",
       "       [False, False, False, ...,  True, False,  True],\n",
       "       [ True,  True, False, ..., False, False,  True]])"
      ]
     },
     "execution_count": 54,
     "metadata": {},
     "output_type": "execute_result"
    }
   ],
   "source": [
    "in_boot_sample"
   ]
  },
  {
   "cell_type": "code",
   "execution_count": 55,
   "id": "3c3a5e8d",
   "metadata": {},
   "outputs": [
    {
     "data": {
      "text/plain": [
       "array([ True,  True, False,  True,  True,  True,  True,  True,  True,\n",
       "        True,  True, False, False,  True,  True,  True,  True, False,\n",
       "        True,  True, False,  True,  True, False,  True])"
      ]
     },
     "execution_count": 55,
     "metadata": {},
     "output_type": "execute_result"
    }
   ],
   "source": [
    "in_boot_sample[:, 0]"
   ]
  },
  {
   "cell_type": "code",
   "execution_count": 56,
   "id": "e3eb9f59",
   "metadata": {},
   "outputs": [
    {
     "data": {
      "text/plain": [
       "array([ 2, 11, 12, 17, 20, 23])"
      ]
     },
     "execution_count": 56,
     "metadata": {},
     "output_type": "execute_result"
    }
   ],
   "source": [
    "b_keep = np.argwhere(~(in_boot_sample[:, i])).reshape(-1)\n",
    "b_keep  # bootstraps models to keep to evaluate i "
   ]
  },
  {
   "cell_type": "code",
   "execution_count": 57,
   "id": "6540da58",
   "metadata": {},
   "outputs": [
    {
     "data": {
      "text/plain": [
       "((25, 8735), (6,))"
      ]
     },
     "execution_count": 57,
     "metadata": {},
     "output_type": "execute_result"
    }
   ],
   "source": [
    "boot_testions.shape, boot_testions[b_keep, i].shape"
   ]
  },
  {
   "cell_type": "code",
   "execution_count": 58,
   "id": "d2848503",
   "metadata": {},
   "outputs": [],
   "source": [
    "Ensemble_train_interval_centers = ([])"
   ]
  },
  {
   "cell_type": "code",
   "execution_count": 59,
   "id": "32225e93",
   "metadata": {},
   "outputs": [
    {
     "data": {
      "text/plain": [
       "[4.1180101973221745]"
      ]
     },
     "execution_count": 59,
     "metadata": {},
     "output_type": "execute_result"
    }
   ],
   "source": [
    "# if there is bootstraps, in this case yes\n",
    "# if len(b_keep) > 0:\n",
    "Ensemble_train_interval_centers.append(\n",
    "    boot_testions[b_keep, i].mean()  # aggregation\n",
    ")\n",
    "Ensemble_train_interval_centers  # aggregates the predictions for the 6 models for i=0"
   ]
  },
  {
   "cell_type": "code",
   "execution_count": 60,
   "id": "813681ca",
   "metadata": {},
   "outputs": [
    {
     "data": {
      "text/plain": [
       "(1728, array([0., 0., 0., ..., 0., 0., 0.]))"
      ]
     },
     "execution_count": 60,
     "metadata": {},
     "output_type": "execute_result"
    }
   ],
   "source": [
    "len(y_train), y_train"
   ]
  },
  {
   "cell_type": "code",
   "execution_count": 61,
   "id": "55faca44",
   "metadata": {},
   "outputs": [
    {
     "data": {
      "text/plain": [
       "0.0"
      ]
     },
     "execution_count": 61,
     "metadata": {},
     "output_type": "execute_result"
    }
   ],
   "source": [
    "y_train[i]"
   ]
  },
  {
   "cell_type": "code",
   "execution_count": 63,
   "id": "d2957c89",
   "metadata": {},
   "outputs": [
    {
     "data": {
      "text/plain": [
       "((1728,), (25, 8735))"
      ]
     },
     "execution_count": 63,
     "metadata": {},
     "output_type": "execute_result"
    }
   ],
   "source": [
    "y_train.shape, boot_testions.shape"
   ]
  },
  {
   "cell_type": "code",
   "execution_count": 62,
   "id": "776ec4e5",
   "metadata": {},
   "outputs": [
    {
     "data": {
      "text/plain": [
       "((), (6,))"
      ]
     },
     "execution_count": 62,
     "metadata": {},
     "output_type": "execute_result"
    }
   ],
   "source": [
    "y_train[i].shape, boot_testions[b_keep, i].shape  # should swap dimensions??"
   ]
  },
  {
   "cell_type": "code",
   "execution_count": 87,
   "id": "307c4bf3",
   "metadata": {},
   "outputs": [],
   "source": [
    "resid_LOO = y_train[i] - boot_testions[b_keep, i].mean()\n",
    "# out_sample_test[i] = boot_testions[b_keep, n:].mean(0)"
   ]
  },
  {
   "cell_type": "code",
   "execution_count": 64,
   "id": "996f82ba",
   "metadata": {},
   "outputs": [],
   "source": [
    "out_sample_test[i] = boot_testions[b_keep, n:].mean(0)"
   ]
  },
  {
   "cell_type": "code",
   "execution_count": 66,
   "id": "a9555f54",
   "metadata": {},
   "outputs": [
    {
     "data": {
      "text/plain": [
       "(1728, 7007)"
      ]
     },
     "execution_count": 66,
     "metadata": {},
     "output_type": "execute_result"
    }
   ],
   "source": [
    "out_sample_test.shape"
   ]
  },
  {
   "cell_type": "code",
   "execution_count": null,
   "id": "a894f765",
   "metadata": {},
   "outputs": [],
   "source": []
  },
  {
   "cell_type": "code",
   "execution_count": 45,
   "id": "f899803e",
   "metadata": {},
   "outputs": [
    {
     "ename": "IndentationError",
     "evalue": "expected an indented block (2993820098.py, line 4)",
     "output_type": "error",
     "traceback": [
      "\u001b[0;36m  Cell \u001b[0;32mIn[45], line 4\u001b[0;36m\u001b[0m\n\u001b[0;31m    # TO-DO\u001b[0m\n\u001b[0m           ^\u001b[0m\n\u001b[0;31mIndentationError\u001b[0m\u001b[0;31m:\u001b[0m expected an indented block\n"
     ]
    }
   ],
   "source": [
    "start = time.time()\n",
    "keep = []\n",
    "for i in range(n):  # n is len(X_train)\n",
    "    # TO-DO"
   ]
  },
  {
   "cell_type": "code",
   "execution_count": null,
   "id": "7d4fd9bf",
   "metadata": {},
   "outputs": [],
   "source": []
  },
  {
   "cell_type": "code",
   "execution_count": null,
   "id": "66fb8c66",
   "metadata": {},
   "outputs": [],
   "source": []
  },
  {
   "cell_type": "code",
   "execution_count": null,
   "id": "0235e4de",
   "metadata": {},
   "outputs": [],
   "source": []
  },
  {
   "cell_type": "code",
   "execution_count": null,
   "id": "fe7765f8",
   "metadata": {},
   "outputs": [],
   "source": []
  },
  {
   "cell_type": "code",
   "execution_count": null,
   "id": "4fed5897",
   "metadata": {},
   "outputs": [],
   "source": []
  },
  {
   "cell_type": "code",
   "execution_count": null,
   "id": "558d7113",
   "metadata": {},
   "outputs": [],
   "source": []
  },
  {
   "cell_type": "code",
   "execution_count": null,
   "id": "d478c34c",
   "metadata": {},
   "outputs": [],
   "source": []
  },
  {
   "cell_type": "code",
   "execution_count": null,
   "id": "1542c465",
   "metadata": {},
   "outputs": [],
   "source": []
  },
  {
   "cell_type": "code",
   "execution_count": null,
   "id": "3b67a57e",
   "metadata": {},
   "outputs": [],
   "source": []
  },
  {
   "cell_type": "code",
   "execution_count": null,
   "id": "3daad3eb",
   "metadata": {},
   "outputs": [],
   "source": []
  }
 ],
 "metadata": {
  "kernelspec": {
   "display_name": "test",
   "language": "python",
   "name": "test"
  },
  "language_info": {
   "codemirror_mode": {
    "name": "ipython",
    "version": 3
   },
   "file_extension": ".py",
   "mimetype": "text/x-python",
   "name": "python",
   "nbconvert_exporter": "python",
   "pygments_lexer": "ipython3",
   "version": "3.9.16"
  }
 },
 "nbformat": 4,
 "nbformat_minor": 5
}
